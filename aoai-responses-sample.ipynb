{
 "cells": [
  {
   "cell_type": "markdown",
   "id": "2803f4ae",
   "metadata": {},
   "source": [
    "# Azure OpenAI Responses API Sample"
   ]
  },
  {
   "cell_type": "code",
   "execution_count": null,
   "id": "efd0d002",
   "metadata": {},
   "outputs": [],
   "source": [
    "import os\n",
    "from dotenv import load_dotenv\n",
    "\n",
    "load_dotenv()  # take environment variables\n",
    "\n",
    "\n",
    "file_path = os.environ.get(\"TARGET_FILE_PATH\")\n",
    "model_name = os.environ.get(\"MODEL_NAME\", \"o3-pro\")\n",
    "\n",
    "system_prompt ='''\n",
    "あなたは優秀な医者です。\n",
    "'''\n",
    "\n",
    "user_content = '''\n",
    "与えられた心電図（ECG）データを分析し、以下の情報を提供してください：\n",
    "1. 心拍数（bpm）    \n",
    "2. 心拍のリズム（正常、頻脈、徐脈など）\n",
    "3. 異常な波形の有無（例：心房細動、心室性期外収縮など）\n",
    "4. その他の重要な所見\n",
    "'''\n",
    "\n",
    "api_version = \"2025-04-01-preview\"\n",
    "endpoint = os.environ.get(\"AZURE_OPENAI_ENDPOINT\")\n"
   ]
  },
  {
   "cell_type": "code",
   "execution_count": null,
   "id": "870ec16a",
   "metadata": {},
   "outputs": [],
   "source": [
    "from IPython.display import Image, display\n",
    "\n",
    "import os\n",
    "\n",
    "import base64\n",
    "f = open(file_path, 'rb')\n",
    "data = f.read()\n",
    "image_data = base64.b64encode(data).decode(\"utf-8\")\n",
    "image_format = os.environ.get(\"FILE_SUFFIX\", \"jpg\")\n",
    "data_url = f\"data:image/{image_format};base64,{image_data}\"\n",
    "f.close()\n",
    "display(Image(data))\n"
   ]
  },
  {
   "cell_type": "code",
   "execution_count": null,
   "id": "96a4d1a9",
   "metadata": {},
   "outputs": [],
   "source": [
    "from azure.identity import DefaultAzureCredential, get_bearer_token_provider\n",
    "from openai import AzureOpenAI\n",
    "import httpx\n",
    "\n",
    "token_provider = get_bearer_token_provider(\n",
    "    DefaultAzureCredential(), \"https://cognitiveservices.azure.com/.default\"\n",
    ")\n",
    "\n",
    "client = AzureOpenAI(\n",
    "    api_version=api_version,\n",
    "    azure_endpoint=endpoint,\n",
    "    azure_ad_token_provider=token_provider,\n",
    "    timeout=httpx.Timeout(3600.0, read=3600.0, write=3600.0, connect=3600.0)\n",
    ")"
   ]
  },
  {
   "cell_type": "code",
   "execution_count": null,
   "id": "8c597556",
   "metadata": {},
   "outputs": [],
   "source": [
    "response = client.responses.create(\n",
    "    model= model_name,\n",
    "    instructions=\"回答は日本語ですること\",\n",
    "    input=[\n",
    "        {\n",
    "            \"role\": \"system\",\n",
    "            \"content\":  {\n",
    "                \"type\": \"text\",\n",
    "                \"text\": system_prompt\n",
    "            },\n",
    "            \"role\": \"user\",\n",
    "            \"content\": [ \n",
    "                {\"type\": \"input_text\", \"text\": user_content},\n",
    "                {\"type\": \"input_image\", \"image_url\": data_url}\n",
    "                ]\n",
    "            }\n",
    "    ]\n",
    ")\n"
   ]
  },
  {
   "cell_type": "code",
   "execution_count": null,
   "id": "0accd1cf",
   "metadata": {},
   "outputs": [],
   "source": [
    "print(f\"model:{response.model}\")\n",
    "print(f\"output:\\n{response.output[1].content[0].text}\")\n",
    "print(f\"input_tokens:{response.usage.input_tokens}\\noutput_tokens:{response.usage.output_tokens}\\ntotal_tokens:{response.usage.total_tokens}\")"
   ]
  }
 ],
 "metadata": {
  "kernelspec": {
   "display_name": ".venv",
   "language": "python",
   "name": "python3"
  },
  "language_info": {
   "codemirror_mode": {
    "name": "ipython",
    "version": 3
   },
   "file_extension": ".py",
   "mimetype": "text/x-python",
   "name": "python",
   "nbconvert_exporter": "python",
   "pygments_lexer": "ipython3",
   "version": "3.11.13"
  }
 },
 "nbformat": 4,
 "nbformat_minor": 5
}
