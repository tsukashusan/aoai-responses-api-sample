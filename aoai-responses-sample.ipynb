{
 "cells": [
  {
   "cell_type": "markdown",
   "id": "2803f4ae",
   "metadata": {},
   "source": [
    "# Azure OpenAI Responses API Sample"
   ]
  },
  {
   "cell_type": "code",
   "execution_count": null,
   "id": "efd0d002",
   "metadata": {},
   "outputs": [],
   "source": [
    "file_path = \"<FileName>\"\n",
    "model_name = \"o3-pro\"\n",
    "\n",
    "from dotenv import load_dotenv\n",
    "import os\n",
    "\n",
    "\n",
    "load_dotenv()  # take environment variables\n",
    "\n",
    "\n",
    "system_prompt ='''\n",
    "あなたは優秀な医者です。\n",
    "'''\n",
    "\n",
    "user_content = '''\n",
    "与えられた心電図（ECG）データを分析し、以下の情報を提供してください：\n",
    "1. 心拍数（bpm）    \n",
    "2. 心拍のリズム（正常、頻脈、徐脈など）\n",
    "3. 異常な波形の有無（例：心房細動、心室性期外収縮など）\n",
    "4. その他の重要な所見\n",
    "'''\n",
    "\n",
    "api_version = \"2025-04-01-preview\"\n",
    "endpoint = os.environ.get(\"AZURE_OPENAI_ENDPOINT\")\n"
   ]
  },
  {
   "cell_type": "code",
   "execution_count": null,
   "id": "870ec16a",
   "metadata": {},
   "outputs": [],
   "source": [
    "from IPython.display import Image, display\n",
    "\n",
    "import os\n",
    "\n",
    "import base64\n",
    "f = open('051243f.jpg', 'rb')\n",
    "data = f.read()\n",
    "image_data = base64.b64encode(data).decode(\"utf-8\")\n",
    "image_format = os.environ.get(\"FILE_SUFFIX\")\n",
    "data_url = f\"data:image/{image_format};base64,{image_data}\"\n",
    "f.close()\n",
    "display(Image(data))\n"
   ]
  },
  {
   "cell_type": "code",
   "execution_count": null,
   "id": "96a4d1a9",
   "metadata": {},
   "outputs": [],
   "source": [
    "from azure.identity import DefaultAzureCredential, get_bearer_token_provider\n",
    "from openai import AzureOpenAI\n",
    "\n",
    "token_provider = get_bearer_token_provider(\n",
    "    DefaultAzureCredential(), \"https://cognitiveservices.azure.com/.default\"\n",
    ")\n",
    "\n",
    "client = AzureOpenAI(\n",
    "    api_version=api_version,\n",
    "    azure_endpoint=endpoint,\n",
    "    azure_ad_token_provider=token_provider,\n",
    ")"
   ]
  },
  {
   "cell_type": "code",
   "execution_count": null,
   "id": "8c597556",
   "metadata": {},
   "outputs": [],
   "source": [
    "response = client.responses.create(\n",
    "    model= model_name,\n",
    "    instructions=\"質問は英語で来るが、回答は日本語ですること\",\n",
    "    input=[\n",
    "        {\n",
    "            \"role\": \"system\",\n",
    "            \"content\":  {\n",
    "                \"type\": \"text\",\n",
    "                \"text\": system_prompt\n",
    "            },\n",
    "            \"role\": \"user\",\n",
    "            \"content\": [ \n",
    "                {\"type\": \"input_text\", \"text\": user_content},\n",
    "                {\"type\": \"input_image\", \"image_url\": data_url}\n",
    "                ]\n",
    "            }\n",
    "    ]\n",
    ")\n"
   ]
  },
  {
   "cell_type": "code",
   "execution_count": null,
   "id": "0accd1cf",
   "metadata": {},
   "outputs": [
    {
     "name": "stdout",
     "output_type": "stream",
     "text": [
      "model:o3-pro\n",
      "output:\n",
      "以下は、提示された12誘導心電図（25 mm/s, 1 mV=10 mm）を肉眼で確認したうえでの概略評価です。画質・表示時間が限られるため、おおよその所見としてご理解ください。\n",
      "\n",
      "1. 心拍数（bpm）  \n",
      "   ・II誘導のRR間隔はおよそ4.5～5マス（大マス）＝0.9～1.0 秒。  \n",
      "   ・300 ÷ 4.8 ≒ 62 bpm（おおよそ60前後）。  \n",
      "   → 軽度にゆっくりめだが正常範囲内。\n",
      "\n",
      "2. 心拍のリズム  \n",
      "   ・各拍に整ったP波が存在し、P波‐QRS‐T波の並びが一定。  \n",
      "   ・RR間隔も規則的。  \n",
      "   → 洞調律（正常洞調律）。頻脈・徐脈の基準外（60 bpm弱なので境界的だが臨床的には正常洞調律）。\n",
      "\n",
      "3. 異常波形の有無  \n",
      "   ・P波：鋭過ぎず、二峰性・鋸歯状なし（心房細動/粗動を示唆する所見なし）。  \n",
      "   ・QRS：幅≒80 ms前後で狭い。異常Q波・Δ波・幅広いPVCなどはなし。  \n",
      "   ・ST：各誘導で上昇・下降とも顕著な偏位なし（虚血・梗塞を示唆せず）。  \n",
      "   ・T波：対称性で陰転化や高尖化はみられない。  \n",
      "   → 期外収縮、心房細動、WPW、伝導ブロックなどの不整脈的異常波形は認めず。\n",
      "\n",
      "4. その他の重要所見  \n",
      "   ・軸：I、aVFともにR波優位→軸はおおむね正常範囲（−30°～+90°）。  \n",
      "   ・PR間隔：約160 msで正常。  \n",
      "   ・QT/​QTc：概算で正常域内。  \n",
      "   ・電位・R波進展：前胸部誘導でV1→V5にかけて正常なR波増高。  \n",
      "   ・病的高電位・低電位、電解質異常を示唆する波形変化もみられず。\n",
      "\n",
      "総合評価  \n",
      "・正常洞調律、心拍数≈60 bpm。  \n",
      "・明らかな不整脈、虚血性変化、伝導障害、肥大所見などの異常は認めません。  \n",
      "・臨床的には「正常心電図」と考えられる所見です。\n",
      "\n",
      "※実際の診断は臨床症状・既往歴・連続モニタリングなどとあわせて医師が総合判断します。本結果は参考情報としてご活用ください。\n",
      "input_tokens:1224\n",
      "output_tokens:1014\n",
      "total_tokens:2238\n"
     ]
    }
   ],
   "source": [
    "print(f\"model:{response.model}\")\n",
    "print(f\"output:\\n{response.output[1].content[0].text}\")\n",
    "print(f\"input_tokens:{response.usage.input_tokens}\\noutput_tokens:{response.usage.output_tokens}\\ntotal_tokens:{response.usage.total_tokens}\")\n"
   ]
  }
 ],
 "metadata": {
  "kernelspec": {
   "display_name": "Python 3",
   "language": "python",
   "name": "python3"
  },
  "language_info": {
   "codemirror_mode": {
    "name": "ipython",
    "version": 3
   },
   "file_extension": ".py",
   "mimetype": "text/x-python",
   "name": "python",
   "nbconvert_exporter": "python",
   "pygments_lexer": "ipython3",
   "version": "3.11.13"
  }
 },
 "nbformat": 4,
 "nbformat_minor": 5
}
